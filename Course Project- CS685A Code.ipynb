{
 "cells": [
  {
   "cell_type": "code",
   "execution_count": null,
   "id": "fd36dbad",
   "metadata": {},
   "outputs": [],
   "source": [
    "import numpy as np\n",
    "import pandas as pd\n",
    "import seaborn as sns\n",
    "import requests\n",
    "import io\n",
    "import matplotlib.pyplot as plt"
   ]
  },
  {
   "cell_type": "code",
   "execution_count": null,
   "id": "e643d0e5",
   "metadata": {
    "scrolled": true
   },
   "outputs": [],
   "source": [
    "path = \"https://raw.githubusercontent.com/rajdeepsaha0809/Will-the-Credit-Card-Default-/main/UCI_Credit_Card.csv\"\n",
    "download = requests.get(path).content\n",
    "df = pd.read_csv(io.StringIO(download.decode('utf-8')))\n",
    "df.head()"
   ]
  },
  {
   "cell_type": "code",
   "execution_count": null,
   "id": "0a6728a5",
   "metadata": {},
   "outputs": [],
   "source": [
    "df.describe()"
   ]
  },
  {
   "cell_type": "markdown",
   "id": "e11d75cb",
   "metadata": {},
   "source": [
    "### Data Description\n",
    "    \n",
    "    ID: ID of each client\n",
    "    LIMIT_BAL: Amount of given credit in NT dollars (includes individual and family/supplementary credit\n",
    "    SEX: Gender (1=male, 2=female)\n",
    "    EDUCATION: (1=graduate school, 2=university, 3=high school, 4=others, 5=unknown, 6=unknown)\n",
    "    MARRIAGE: Marital status (1=married, 2=single, 3=others)\n",
    "    AGE: Age in years\n",
    "    PAY_0: Repayment status in September, 2005 (-1=pay duly, 1=payment delay for one month, 2=payment delay for two months,... 8=payment delay for eight months, 9=payment delay for nine months and above)\n",
    "    PAY_2: Repayment status in August, 2005 (scale same as above)\n",
    "    PAY_3: Repayment status in July, 2005 (scale same as above)\n",
    "    PAY_4: Repayment status in June, 2005 (scale same as above)\n",
    "    PAY_5: Repayment status in May, 2005 (scale same as above)\n",
    "    PAY_6: Repayment status in April, 2005 (scale same as above)\n",
    "    BILL_AMT1: Amount of bill statement in September, 2005 (NT dollar)\n",
    "    BILL_AMT2: Amount of bill statement in August, 2005 (NT dollar)\n",
    "    BILL_AMT3: Amount of bill statement in July, 2005 (NT dollar)\n",
    "    BILL_AMT4: Amount of bill statement in June, 2005 (NT dollar)\n",
    "    BILL_AMT5: Amount of bill statement in May, 2005 (NT dollar)\n",
    "    BILL_AMT6: Amount of bill statement in April, 2005 (NT dollar)\n",
    "    PAY_AMT1: Amount of previous payment in September, 2005 (NT dollar)\n",
    "    PAY_AMT2: Amount of previous payment in August, 2005 (NT dollar)\n",
    "    PAY_AMT3: Amount of previous payment in July, 2005 (NT dollar)\n",
    "    PAY_AMT4: Amount of previous payment in June, 2005 (NT dollar)\n",
    "    PAY_AMT5: Amount of previous payment in May, 2005 (NT dollar)\n",
    "    PAY_AMT6: Amount of previous payment in April, 2005 (NT dollar)\n",
    "    default.payment.next.month: Default payment (1=yes, 0=no)\n"
   ]
  },
  {
   "cell_type": "markdown",
   "id": "60adc76a",
   "metadata": {},
   "source": [
    "#### Checking for Missing Values "
   ]
  },
  {
   "cell_type": "code",
   "execution_count": null,
   "id": "0ad5aeaa",
   "metadata": {},
   "outputs": [],
   "source": [
    "df.isna().sum() \n",
    "#There are no missing values"
   ]
  },
  {
   "cell_type": "code",
   "execution_count": null,
   "id": "eb4feffb",
   "metadata": {},
   "outputs": [],
   "source": [
    "df['default.payment.next.month'].value_counts()/300"
   ]
  },
  {
   "cell_type": "code",
   "execution_count": null,
   "id": "ca4e7f7e",
   "metadata": {},
   "outputs": [],
   "source": [
    "df.columns"
   ]
  },
  {
   "cell_type": "code",
   "execution_count": null,
   "id": "1f5ac605",
   "metadata": {},
   "outputs": [],
   "source": [
    "df.rename(columns={'PAY_0':'PAY_1'}, inplace=True)\n",
    "df.head()"
   ]
  },
  {
   "cell_type": "markdown",
   "id": "5d172a34",
   "metadata": {},
   "source": [
    "#### Categorical Variables:\n",
    "'SEX', 'EDUCATION', 'MARRIAGE', 'PAY_0', 'PAY_2', 'PAY_3', 'PAY_4', 'PAY_5', 'PAY_6'"
   ]
  },
  {
   "cell_type": "markdown",
   "id": "e844c840",
   "metadata": {},
   "source": [
    "#### Numerical Variables: \n",
    "'LIMIT_BAL', 'AGE', 'BILL_AMT1', 'BILL_AMT2', 'BILL_AMT3', 'BILL_AMT4', 'BILL_AMT5', 'BILL_AMT6', 'PAY_AMT1', 'PAY_AMT2', 'PAY_AMT3', 'PAY_AMT4', 'PAY_AMT5', 'PAY_AMT6'"
   ]
  },
  {
   "cell_type": "markdown",
   "id": "99ff97da",
   "metadata": {},
   "source": [
    "#### Response Variable: \n",
    "'default.payment.next.month'"
   ]
  },
  {
   "cell_type": "code",
   "execution_count": null,
   "id": "b811064f",
   "metadata": {},
   "outputs": [],
   "source": [
    "df['EDUCATION'].value_counts()"
   ]
  },
  {
   "cell_type": "code",
   "execution_count": null,
   "id": "6ecc5e36",
   "metadata": {},
   "outputs": [],
   "source": [
    "df.loc[:,'EDUCATION'] = df.loc[:,'EDUCATION'].replace(0,5)\n",
    "df.loc[:,'EDUCATION'] = df.loc[:,'EDUCATION'].replace(6,5)"
   ]
  },
  {
   "cell_type": "code",
   "execution_count": null,
   "id": "4bbf074d",
   "metadata": {},
   "outputs": [],
   "source": [
    "df['EDUCATION'].value_counts()"
   ]
  },
  {
   "cell_type": "markdown",
   "id": "492984e5",
   "metadata": {},
   "source": [
    "### Information Extraction and Visualization"
   ]
  },
  {
   "cell_type": "code",
   "execution_count": null,
   "id": "79cae4f5",
   "metadata": {},
   "outputs": [],
   "source": [
    "numeric = df[['LIMIT_BAL', 'AGE','BILL_AMT1', 'BILL_AMT2', 'BILL_AMT3', 'BILL_AMT4', 'BILL_AMT5', 'BILL_AMT6', 'PAY_AMT1', 'PAY_AMT2', 'PAY_AMT3', 'PAY_AMT4', 'PAY_AMT5', 'PAY_AMT6']]\n",
    "numeric.head()"
   ]
  },
  {
   "cell_type": "code",
   "execution_count": null,
   "id": "a11e6e7b",
   "metadata": {},
   "outputs": [],
   "source": [
    "df['PAY_1'].value_counts()"
   ]
  },
  {
   "cell_type": "code",
   "execution_count": null,
   "id": "be777007",
   "metadata": {},
   "outputs": [],
   "source": [
    "from sklearn.preprocessing import LabelEncoder\n",
    "le = LabelEncoder()\n",
    "for i in range(1,7):\n",
    "    col_name = f\"PAY_{i}\"\n",
    "    df[col_name] = le.fit_transform(df[col_name])\n",
    "df['MARRIAGE'] = le.fit_transform(df['MARRIAGE'])    \n",
    "df['SEX'] = le.fit_transform(df['SEX'])\n",
    "df['EDUCATION'] = le.fit_transform(df['EDUCATION'])\n",
    "df.head(10)"
   ]
  },
  {
   "cell_type": "code",
   "execution_count": null,
   "id": "f69f0908",
   "metadata": {},
   "outputs": [],
   "source": [
    "df.rename(columns={'default.payment.next.month':'Default'}, inplace=True)"
   ]
  },
  {
   "cell_type": "code",
   "execution_count": null,
   "id": "83b6a910",
   "metadata": {},
   "outputs": [],
   "source": [
    "bins = [20,30,40,50,60,80]\n",
    "labels = ['20-29','30-39','40-49','50-59','60-79']\n",
    "df['age-bin'] = pd.cut(df['AGE'],bins = bins,labels = labels,right = False)\n",
    "#df.head(10)"
   ]
  },
  {
   "cell_type": "code",
   "execution_count": null,
   "id": "7cf1bbf8",
   "metadata": {},
   "outputs": [],
   "source": [
    "colours = ['#FFF1C9','#F7B7A3','#EA5F89','#9B3192','#57167E']\n",
    "plt.pie(df['age-bin'].value_counts(), autopct='%1.1f%%',labels=df['age-bin'].value_counts().index, explode = [0.05,0.05,.05,.05,.05], colors = colours)\n",
    "plt.title('Proportions of different age groups')\n",
    "#plt.savefig(\"Pie.jpg\", dpi = 1000, format = 'jpg')"
   ]
  },
  {
   "cell_type": "code",
   "execution_count": null,
   "id": "3ba038ec",
   "metadata": {},
   "outputs": [],
   "source": [
    "plt.figure(figsize=(12,8))\n",
    "\n",
    "AgeBin_order = ['20-29', '30-39', '40-49', '50-59', '60-79']\n",
    "\n",
    "ax = sns.countplot(data = df, x = 'age-bin', hue = 'Default', palette= 'cubehelix', order = AgeBin_order)\n",
    "\n",
    "plt.xlabel(\"Age Group\", fontsize= 12)\n",
    "plt.ylabel(\"Number of Clients\", fontsize= 12)\n",
    "plt.ylim(0,10000)\n",
    "\n",
    "for p in ax.patches:\n",
    "    ax.annotate((p.get_height()), (p.get_x()+0.075, p.get_height()+300))\n",
    "plt.title('Number of clients having default and non default credit cards for different age groups')\n",
    "plt.legend(title = 'Default', labels = ['No', 'Yes'])\n",
    "plt.show()\n",
    "fig = ax.get_figure()\n",
    "#fig.savefig('age-group.jpg', dpi = 800,format = 'jpg')"
   ]
  },
  {
   "cell_type": "code",
   "execution_count": null,
   "id": "ae4a1f83",
   "metadata": {},
   "outputs": [],
   "source": [
    "defaulters = sum(df['Default'])"
   ]
  },
  {
   "cell_type": "code",
   "execution_count": null,
   "id": "2829acbb",
   "metadata": {},
   "outputs": [],
   "source": [
    "def_age_per = df[df['Default'] == 1]['age-bin'].value_counts()*100/defaulters\n",
    "plt.figure(figsize=(12,8))\n",
    "ax = sns.barplot(x = def_age_per.index, y = def_age_per, data = df, palette = 'Paired', ci = None)\n",
    "plt.ylabel('Percentages of Default', fontsize= 12)\n",
    "plt.xlabel('Age-Groups', fontsize = 12)\n",
    "plt.ylim(0,50)\n",
    "for p in ax.patches:\n",
    "    ax.annotate(\"%.2f\" %(p.get_height()), (p.get_x()+0.25, p.get_height()+0.5),fontsize=12)\n",
    "plt.title('Percentages of clients having default credit cards for different age groups')\n",
    "# fig = ax.get_figure()\n",
    "# fig.savefig('age-perc.jpg', dpi = 800,format = 'jpg')"
   ]
  },
  {
   "cell_type": "code",
   "execution_count": null,
   "id": "623fa488",
   "metadata": {},
   "outputs": [],
   "source": [
    "plt.figure(figsize=(12,8))\n",
    "ax = sns.barplot(x = \"age-bin\", y = \"Default\", data = df, palette = 'magma', ci = None)\n",
    "\n",
    "plt.ylabel('Proportions of Default', fontsize= 12)\n",
    "plt.ylim(0,0.5)\n",
    "plt.xticks([0,1,2,3,4],['20-29', '30-39','40-49','50-59','60-79'], fontsize = 12)\n",
    "\n",
    "for p in ax.patches:\n",
    "    ax.annotate(\"%.2f\" %(p.get_height()), (p.get_x()+0.35, p.get_height()+0.03),fontsize=13)\n",
    "plt.title('Proportions of clients having default credit cards for different age groups')\n",
    "# fig = ax.get_figure()\n",
    "# fig.savefig('age-prop.jpg', dpi = 800,format = 'jpg')"
   ]
  },
  {
   "cell_type": "code",
   "execution_count": null,
   "id": "f60bcc22",
   "metadata": {},
   "outputs": [],
   "source": [
    "plt.figure(figsize=(12,8))\n",
    "\n",
    "gen_order = [0,1]\n",
    "\n",
    "ax = sns.countplot(data = df, x = 'SEX', hue = 'Default', palette='viridis', order = gen_order)\n",
    "\n",
    "plt.xlabel(\"Gender\", fontsize= 12)\n",
    "plt.ylabel(\"Number of Clients\", fontsize= 12)\n",
    "plt.ylim(0,20000)\n",
    "\n",
    "for p in ax.patches:\n",
    "    ax.annotate((p.get_height()), (p.get_x()+0.075, p.get_height()+300))\n",
    "ax.set_xticklabels(['Male','Female'])\n",
    "plt.title('Number of clients having default and non default credit cards for different genders')\n",
    "plt.legend(title = 'Default', labels = ['No', 'Yes'])\n",
    "# fig = ax.get_figure()\n",
    "# fig.savefig('gender-group.jpg', dpi = 800,format = 'jpg')"
   ]
  },
  {
   "cell_type": "code",
   "execution_count": null,
   "id": "0b59a429",
   "metadata": {},
   "outputs": [],
   "source": [
    "def_sex_per = df[df['Default'] == 1]['SEX'].value_counts()*100/defaulters\n",
    "plt.figure(figsize=(12,8))\n",
    "ax = sns.barplot(x = def_sex_per.index, y = def_sex_per, data = df, palette = 'magma', ci = None)\n",
    "plt.ylabel('Percentages of Default', fontsize= 12)\n",
    "plt.xlabel('Gender', fontsize = 12)\n",
    "plt.ylim(0,100)\n",
    "for p in ax.patches:\n",
    "    ax.annotate(\"%.2f\" %(p.get_height()), (p.get_x()+0.35, p.get_height()+0.5),fontsize=12)\n",
    "plt.title('Percentages of clients having default credit cards for different Gender')\n",
    "plt.xticks([0,1],[\"Male\",\"Female\"], fontsize = 12)\n",
    "plt.show()\n",
    "# fig = ax.get_figure()\n",
    "# fig.savefig('sex-perc.jpg', dpi = 800,format = 'jpg')"
   ]
  },
  {
   "cell_type": "code",
   "execution_count": null,
   "id": "a3b01e23",
   "metadata": {},
   "outputs": [],
   "source": [
    "plt.figure(figsize=(12,8))\n",
    "\n",
    "ax = sns.barplot(x = \"SEX\", y = \"Default\", data = df, palette = 'icefire', ci = None)\n",
    "\n",
    "plt.ylabel('Proportions of Default', fontsize= 12)\n",
    "plt.ylim(0,0.5)\n",
    "plt.xticks([0,1],['Male', 'Female'], fontsize = 12)\n",
    "\n",
    "for p in ax.patches:\n",
    "    ax.annotate(\"%.2f\" %(p.get_height()), (p.get_x()+0.35, p.get_height()+0.03),fontsize=13)\n",
    "plt.title('Proportions of clients having default credit cards for different genders')\n",
    "plt.show()\n",
    "# fig = ax.get_figure()\n",
    "# fig.savefig('gender-prop.jpg', dpi = 800,format = 'jpg')"
   ]
  },
  {
   "cell_type": "code",
   "execution_count": null,
   "id": "213e2139",
   "metadata": {},
   "outputs": [],
   "source": [
    "plt.figure(figsize=(12,8))\n",
    "\n",
    "edu_order = [0,1,2,3,4]\n",
    "\n",
    "ax = sns.countplot(data = df, x = 'EDUCATION', hue = 'Default', palette='Spectral', order = edu_order)\n",
    "\n",
    "plt.xlabel(\"Education\", fontsize= 12)\n",
    "plt.ylabel(\"Number of Clients\", fontsize= 12)\n",
    "plt.ylim(0,15000)\n",
    "\n",
    "for p in ax.patches:\n",
    "    ax.annotate((p.get_height()), (p.get_x()+0.075, p.get_height()+300))\n",
    "ax.set_xticklabels(['Grad school','University','High School','Others','Unknown'])\n",
    "plt.title('Number of clients having default and non default credit cards for different educational levels')\n",
    "plt.legend(title = 'Default', labels = ['No', 'Yes'])\n",
    "# fig = ax.get_figure()\n",
    "# fig.savefig('education-group.jpg', dpi = 800,format = 'jpg')"
   ]
  },
  {
   "cell_type": "code",
   "execution_count": null,
   "id": "e321a8e7",
   "metadata": {},
   "outputs": [],
   "source": [
    "def_ed_per = df[df['Default'] == 1]['EDUCATION'].value_counts()*100/defaulters\n",
    "plt.figure(figsize=(12,8))\n",
    "ax = sns.barplot(x = def_ed_per.index, y = def_ed_per, data = df, palette = 'flare', ci = None)\n",
    "plt.ylabel('Percentages of Default', fontsize= 12)\n",
    "plt.xlabel('Education Level', fontsize = 12)\n",
    "plt.ylim(0,100)\n",
    "for p in ax.patches:\n",
    "    ax.annotate(\"%.2f\" %(p.get_height()), (p.get_x()+0.3, p.get_height()+0.5),fontsize=12)\n",
    "plt.title('Percentages of clients having default credit cards for different Education Level')\n",
    "plt.xticks([0,1,2,3,4],[\"Grad School\",\"University\", \"High School\", \"Others\", \"Unknown\"], fontsize = 12)\n",
    "plt.show()\n",
    "# fig = ax.get_figure()\n",
    "# fig.savefig('edu-perc.jpg', dpi = 800,format = 'jpg')"
   ]
  },
  {
   "cell_type": "code",
   "execution_count": null,
   "id": "c9e9b30c",
   "metadata": {},
   "outputs": [],
   "source": [
    "plt.figure(figsize=(12,8))\n",
    "\n",
    "ax = sns.barplot(x = \"EDUCATION\", y = \"Default\", data = df, palette = 'rocket', ci = None)\n",
    "\n",
    "plt.ylabel('Proportions of Default', fontsize= 12)\n",
    "plt.ylim(0,0.5)\n",
    "plt.xticks([0,1,2,3,4],['Grad school','University','High School','Others','Unknown'], fontsize = 12)\n",
    "\n",
    "for p in ax.patches:\n",
    "    ax.annotate(\"%.2f\" %(p.get_height()), (p.get_x()+0.35, p.get_height()+0.03),fontsize=13)\n",
    "plt.title('Proportions of clients having default credit cards for different educational levels')\n",
    "# fig = ax.get_figure()\n",
    "# fig.savefig('education-prop.jpg', dpi = 800,format = 'jpg')"
   ]
  },
  {
   "cell_type": "code",
   "execution_count": null,
   "id": "e54a1934",
   "metadata": {},
   "outputs": [],
   "source": [
    "plt.figure(figsize=(12,8))\n",
    "\n",
    "mar_order = [0,1,2,3]\n",
    "\n",
    "ax = sns.countplot(data = df, x = 'MARRIAGE', hue = 'Default',palette = 'mako', order = mar_order)\n",
    "\n",
    "plt.xlabel(\"Marital Status\", fontsize= 12)\n",
    "plt.ylabel(\"Number of Clients\", fontsize= 12)\n",
    "plt.ylim(0,20000)\n",
    "\n",
    "for p in ax.patches:\n",
    "    ax.annotate((p.get_height()), (p.get_x()+0.075, p.get_height()+300))\n",
    "ax.set_xticklabels(['Unknown','Married','Single','Divorce'])\n",
    "plt.title('Number of clients having default and non default credit cards for different marital status')\n",
    "plt.legend(title = 'Default', labels = ['No', 'Yes'])\n",
    "# fig = ax.get_figure()\n",
    "# fig.savefig('marital-group.jpg', dpi = 800,format = 'jpg')"
   ]
  },
  {
   "cell_type": "code",
   "execution_count": null,
   "id": "78bbff56",
   "metadata": {},
   "outputs": [],
   "source": [
    "def_mar_per = df[df['Default'] == 1]['MARRIAGE'].value_counts()*100/defaulters\n",
    "plt.figure(figsize=(12,8))\n",
    "ax = sns.barplot(x = def_mar_per.index, y = def_mar_per, data = df, palette = 'magma', ci = None)\n",
    "plt.ylabel('Percentages of Default', fontsize= 12)\n",
    "plt.xlabel('Marital Status', fontsize = 12)\n",
    "plt.ylim(0,100)\n",
    "for p in ax.patches:\n",
    "    ax.annotate(\"%.2f\" %(p.get_height()), (p.get_x()+0.35, p.get_height()+0.5),fontsize=12)\n",
    "plt.title('Percentages of clients having default credit cards for different Marital Status')\n",
    "plt.xticks([0,1,2,3],[\"Unknown\",\"Married\", \"Single\",\"Divorce\"], fontsize = 12)\n",
    "plt.show()\n",
    "# fig = ax.get_figure()\n",
    "# fig.savefig('mar-perc.jpg', dpi = 800,format = 'jpg')"
   ]
  },
  {
   "cell_type": "code",
   "execution_count": null,
   "id": "3c510f46",
   "metadata": {},
   "outputs": [],
   "source": [
    "plt.figure(figsize=(12,8))\n",
    "\n",
    "ax = sns.barplot(x = \"MARRIAGE\", y = \"Default\", data = df, palette = 'Spectral', ci = None)\n",
    "\n",
    "plt.ylabel('Proportions of Default', fontsize= 12)\n",
    "plt.ylim(0,0.5)\n",
    "plt.xticks([0,1,2,3],['Unknown', 'Married','Single','Divorce'], fontsize = 12)\n",
    "\n",
    "for p in ax.patches:\n",
    "    ax.annotate(\"%.2f\" %(p.get_height()), (p.get_x()+0.35, p.get_height()+0.03),fontsize=13)\n",
    "plt.title('Proportions of clients having default and non default credit cards for different mar')\n",
    "plt.title('Proportions of clients having default credit cards for different marital status')\n",
    "# fig = ax.get_figure()\n",
    "# fig.savefig('marital-prop.jpg', dpi = 800,format = 'jpg')"
   ]
  },
  {
   "cell_type": "code",
   "execution_count": null,
   "id": "19779c6a",
   "metadata": {},
   "outputs": [],
   "source": [
    "plt.figure(figsize=(12,8))\n",
    "\n",
    "ax = sns.barplot(x = \"SEX\", y = \"Default\", hue = \"MARRIAGE\", data = df, palette = 'icefire', ci = None)\n",
    "\n",
    "plt.ylabel(\"Proportions of Default\", fontsize= 12)\n",
    "plt.ylim(0,0.5)\n",
    "plt.xticks([0,1],['Male', 'Female'], fontsize = 12)\n",
    "\n",
    "for p in ax.patches:\n",
    "    ax.annotate(\"%.2f\" %(p.get_height()), (p.get_x()+0.06, p.get_height()+0.03),fontsize=12)\n",
    "plt.title('Proportions of clients having default credit cards for different genders and marital status')\n",
    "plt.legend(title = 'Marital Status', labels = ['Unknown', 'Married', 'Single', 'Divorce'])\n",
    "# fig = ax.get_figure()\n",
    "# fig.savefig('gender-marital-prop.jpg', dpi = 800,format = 'jpg')"
   ]
  },
  {
   "cell_type": "code",
   "execution_count": null,
   "id": "c568f7bc",
   "metadata": {},
   "outputs": [],
   "source": [
    "plt.figure(figsize=(12,8))\n",
    "\n",
    "ax = sns.barplot(x = \"SEX\", y = \"Default\", hue = \"EDUCATION\", data = df, palette = 'magma', ci = None)\n",
    "\n",
    "plt.ylabel(\"Proportions of Default\", fontsize= 12)\n",
    "plt.ylim(0,0.5)\n",
    "plt.xticks([0,1],['Male', 'Female'], fontsize = 12)\n",
    "\n",
    "for p in ax.patches:\n",
    "    ax.annotate(\"%.2f\" %(p.get_height()), (p.get_x()+0.06, p.get_height()+0.03),fontsize=12)\n",
    "plt.title('Proportions of clients having default and non default credit cards for different genders and educational levels')\n",
    "plt.legend(title = 'Education level', labels = ['Graduate School', 'University', 'High School', 'Others', 'Unknown'])\n",
    "# fig = ax.get_figure()\n",
    "# fig.savefig('gender-education-prop.jpg', dpi = 800,format = 'jpg')"
   ]
  },
  {
   "cell_type": "code",
   "execution_count": null,
   "id": "d5ca2088",
   "metadata": {},
   "outputs": [],
   "source": [
    "plt.figure(figsize=(12,8))\n",
    "\n",
    "sns.boxplot(x = \"SEX\", y = \"LIMIT_BAL\",data = df, palette = 'viridis')\n",
    "\n",
    "plt.ticklabel_format(style='plain', axis='y')     \n",
    "plt.xticks([0,1],['Male', 'Female'], fontsize = 12)\n",
    "#plt.savefig('Box-gender-bal.jpg', dpi = 800, format = 'jpg')"
   ]
  },
  {
   "cell_type": "code",
   "execution_count": null,
   "id": "436b634b",
   "metadata": {},
   "outputs": [],
   "source": [
    "plt.figure(figsize=(14,8))\n",
    "\n",
    "sns.boxplot(x = \"EDUCATION\", y = \"LIMIT_BAL\", data = df, palette = 'cubehelix')\n",
    "\n",
    "plt.ticklabel_format(style='plain', axis='y')   \n",
    "plt.xticks([0,1,2,3,4],['Grad School','University','High School','Others','Unknown'], fontsize = 12)\n",
    "#plt.savefig('Box-edu-bal.jpg', dpi = 800, format = 'jpg')"
   ]
  },
  {
   "cell_type": "code",
   "execution_count": null,
   "id": "0a1842bd",
   "metadata": {},
   "outputs": [],
   "source": [
    "plt.figure(figsize=(14,8))\n",
    "\n",
    "sns.boxplot(x = \"MARRIAGE\", y = \"LIMIT_BAL\", data = df, palette = 'flare')\n",
    "\n",
    "plt.ticklabel_format(style='plain', axis='y')    \n",
    "plt.xticks([0,1,2,3],['Unknown', 'Married', 'Single', 'Divorce'], fontsize = 12)\n",
    "#plt.savefig('Box-marriage-bal.jpg', dpi = 800, format = 'jpg')"
   ]
  },
  {
   "cell_type": "code",
   "execution_count": null,
   "id": "1a3216f0",
   "metadata": {},
   "outputs": [],
   "source": [
    "plt.figure(figsize=(14,8))\n",
    "\n",
    "sns.boxplot(x = \"age-bin\", y = \"LIMIT_BAL\",data = df, palette = 'Spectral', order = AgeBin_order)\n",
    "\n",
    "plt.ticklabel_format(style='plain', axis='y')   \n",
    "plt.xlabel(\"Age Group\", fontsize= 12)\n",
    "#plt.savefig('Box-age-bal.jpg', dpi = 800, format = 'jpg')"
   ]
  },
  {
   "cell_type": "code",
   "execution_count": null,
   "id": "bf9c9330",
   "metadata": {},
   "outputs": [],
   "source": [
    "plt.figure(figsize=(14,8))\n",
    "\n",
    "sns.boxplot(x = \"EDUCATION\", y = \"LIMIT_BAL\", hue = 'SEX', data = df, palette = 'rocket')\n",
    "\n",
    "plt.ticklabel_format(style='plain', axis='y') \n",
    "plt.xticks([0,1,2,3,4],['Grad School','University','High School','Others','Unknown'], fontsize = 11)\n",
    "#plt.savefig('Box-edu-sex-bal.jpg', dpi = 800, format = 'jpg')"
   ]
  },
  {
   "cell_type": "code",
   "execution_count": null,
   "id": "bb21e5ec",
   "metadata": {},
   "outputs": [],
   "source": [
    "plt.figure(figsize=(14,8))\n",
    "\n",
    "sns.boxplot(x = \"MARRIAGE\", y = \"LIMIT_BAL\", hue = 'SEX', data = df, palette = 'crest')\n",
    "\n",
    "plt.ticklabel_format(style='plain', axis='y')   \n",
    "plt.xticks([0,1,2,3],['Unknown', 'Married', 'Single', 'Divorce'], fontsize = 12)\n",
    "#plt.savefig('Box-marriage-sex-bal.jpg', dpi = 800, format = 'jpg')"
   ]
  },
  {
   "cell_type": "code",
   "execution_count": null,
   "id": "2fca69cb",
   "metadata": {},
   "outputs": [],
   "source": [
    "plt.figure(figsize=(15,8))\n",
    "\n",
    "sns.boxplot(x = \"age-bin\", y = \"LIMIT_BAL\", hue = 'SEX', data = df, palette = 'rocket', order = AgeBin_order, )\n",
    "\n",
    "plt.ticklabel_format(style='plain', axis='y')   \n",
    "plt.xlabel(\"Age Group\", fontsize= 12)\n",
    "#plt.savefig('Box-age-sex-bal.jpg', dpi = 800, format = 'jpg')"
   ]
  },
  {
   "cell_type": "code",
   "execution_count": null,
   "id": "512c2a1e",
   "metadata": {},
   "outputs": [],
   "source": [
    "plt.figure(figsize=(12,8))\n",
    "\n",
    "sns.boxplot(x = \"Default\", y = \"LIMIT_BAL\", hue = 'SEX', data = df, palette = 'mako')\n",
    "\n",
    "plt.ticklabel_format(style='plain', axis='y')    \n",
    "plt.xticks([0,1],['No','Yes'], fontsize = 12)\n",
    "#plt.savefig('Box-default-sex-bal.jpg', dpi = 800, format = 'jpg')"
   ]
  },
  {
   "cell_type": "code",
   "execution_count": null,
   "id": "c415f7fa",
   "metadata": {},
   "outputs": [],
   "source": [
    "import scipy.stats.distributions as dst"
   ]
  },
  {
   "cell_type": "code",
   "execution_count": null,
   "id": "775de96f",
   "metadata": {},
   "outputs": [],
   "source": [
    "#checking significance of difference of proportion of male and female defaulters:\n",
    "significance=0.05\n",
    "male_default=df.iloc[np.where((df['SEX']== 0)&(df['Default']==1))].shape[0]\n",
    "tot_m=df.iloc[np.where(df['SEX']==0)].shape[0]\n",
    "female_default=df.iloc[np.where((df['SEX']==1)&(df['Default']==1))].shape[0]\n",
    "tot_f=df.iloc[np.where(df['SEX']==1)].shape[0]\n",
    "#H0:p1=p2 vs H1:not H0\n",
    "p1=male_default/tot_m\n",
    "p2=female_default/tot_f\n",
    "p=(male_default+female_default)/(tot_m+tot_f)\n",
    "z=(p1-p2)/np.sqrt(p*(1-p)*((1/tot_m)+(1/tot_f)))\n",
    "p_value=2*(1-dst.norm.cdf(abs(z)))\n",
    "print('p value :{}'.format(p_value))\n",
    "if p_value > significance:\n",
    "   print (\"Fail to reject the null hypothesis\")\n",
    "else:\n",
    "   print (\"Reject the null hypothesis - suggest the alternative hypothesis is true\")\n"
   ]
  },
  {
   "cell_type": "markdown",
   "id": "29a00b43",
   "metadata": {},
   "source": [
    "#### Hence, Gender is a significant attribute.  "
   ]
  },
  {
   "cell_type": "code",
   "execution_count": null,
   "id": "855d63ff",
   "metadata": {},
   "outputs": [],
   "source": [
    "#checking significance of difference of proportion of married and unmarried defaulters:\n",
    "significance=0.05\n",
    "ma_default=df.iloc[np.where((df['MARRIAGE']==1)&(df['Default']==1))].shape[0]\n",
    "tot_ma=df.iloc[np.where(df['MARRIAGE']==1)].shape[0]\n",
    "un_default=df.iloc[np.where((df['MARRIAGE'].isin([2,3]))&(df['Default']==1))].shape[0]\n",
    "tot_un=df.iloc[np.where(df['MARRIAGE'].isin([2,3]))].shape[0]\n",
    "#H0:p1=p2 vs H1:not H0\n",
    "p1=ma_default/tot_ma\n",
    "p2=un_default/tot_un\n",
    "p=(ma_default+ma_default)/(tot_ma+tot_un)\n",
    "z=(p1-p2)/np.sqrt(p*(1-p)*((1/tot_ma)+(1/tot_un)))\n",
    "p_value=2*(1-dst.norm.cdf(abs(z)))\n",
    "print('p value :{}'.format(p_value))\n",
    "if p_value > significance:\n",
    "   print (\"Fail to reject the null hypothesis\")\n",
    "else:\n",
    "   print (\"Reject the null hypothesis - suggest the alternative hypothesis is true\")"
   ]
  },
  {
   "cell_type": "markdown",
   "id": "b95c2326",
   "metadata": {},
   "source": [
    "#### Marriage status is a significant attribute."
   ]
  },
  {
   "cell_type": "code",
   "execution_count": null,
   "id": "63fab070",
   "metadata": {},
   "outputs": [],
   "source": [
    "#checking significance of difference of proportion of age between (35,60) and age<35 defaulters:\n",
    "significance=0.05\n",
    "age1_default=df.iloc[np.where((df['AGE'].between(35,60,inclusive=True))&(df['Default']==1))].shape[0]\n",
    "tot_age1=df.iloc[np.where(df['AGE'].between(35,60,inclusive=True))].shape[0]\n",
    "age2_default=df.iloc[np.where((df['AGE']<35)&(df['Default']==1))].shape[0]\n",
    "tot_age2=df.iloc[np.where(df['AGE']<35)].shape[0]\n",
    "#H0:p1=p2 vs H1:not H0\n",
    "p1=age1_default/tot_age1\n",
    "p2=age2_default/tot_age2\n",
    "p=(age1_default+age2_default)/(tot_age1+tot_age2)\n",
    "z=(p1-p2)/np.sqrt(p*(1-p)*((1/tot_age1)+(1/tot_age2)))\n",
    "p_value=2*(1-dst.norm.cdf(abs(z)))\n",
    "print('p value :{}'.format(p_value))\n",
    "if p_value > significance:\n",
    "   print (\"Fail to reject the null hypothesis\")\n",
    "else:\n",
    "   print (\"Reject the null hypothesis - suggest the alternative hypothesis is true\")"
   ]
  },
  {
   "cell_type": "markdown",
   "id": "27c9d2df",
   "metadata": {},
   "source": [
    "#### Age is an important factor."
   ]
  },
  {
   "cell_type": "code",
   "execution_count": null,
   "id": "e2e88c90",
   "metadata": {},
   "outputs": [],
   "source": [
    "#checking significance of difference of proportion of limit_bal between (10k,100k) and limit_bal>100k defaulters:\n",
    "significance=0.05\n",
    "B1_default=df.iloc[np.where((df['LIMIT_BAL'].between(10000,100000,inclusive=True))&(df['Default']==1))].shape[0]\n",
    "tot_B1=df.iloc[np.where(df['LIMIT_BAL'].between(10000,100000,inclusive=True))].shape[0]\n",
    "B2_default=df.iloc[np.where((df['LIMIT_BAL']>100000)&(df['Default']==1))].shape[0]\n",
    "tot_B2=df.iloc[np.where(df['LIMIT_BAL']>100000)].shape[0]\n",
    "#H0:p1=p2 vs H1:not H0\n",
    "p1=B1_default/tot_B1\n",
    "p2=B2_default/tot_B2\n",
    "p=(B1_default+B2_default)/(tot_B1+tot_B2)\n",
    "z=(p1-p2)/np.sqrt(p*(1-p)*((1/tot_B1)+(1/tot_B2)))\n",
    "p_value=2*(1-dst.norm.cdf(abs(z)))\n",
    "print('p value :{}'.format(p_value))\n",
    "if p_value > significance:\n",
    "   print (\"Fail to reject the null hypothesis\")\n",
    "else:\n",
    "   print (\"Reject the null hypothesis - suggest the alternative hypothesis is true\")"
   ]
  },
  {
   "cell_type": "markdown",
   "id": "0abd130e",
   "metadata": {},
   "source": [
    "#### Limit balance groups are also significant in prediction purposes."
   ]
  },
  {
   "cell_type": "code",
   "execution_count": null,
   "id": "e12d8319",
   "metadata": {},
   "outputs": [],
   "source": [
    "#checking significance of difference of proportion of education :high school and graduate and above defaulters:\n",
    "significance=0.05\n",
    "B1_default=df.iloc[np.where((df['EDUCATION'].isin([1,2]))&(df['Default']==1))].shape[0]\n",
    "tot_B1=df.iloc[np.where(df['EDUCATION'].isin([1,2]))].shape[0]\n",
    "B2_default=df.iloc[np.where((df['EDUCATION'].isin([3,4]))&(df['Default']==1))].shape[0]\n",
    "tot_B2=df.iloc[np.where(df['EDUCATION'].isin([3,4]))].shape[0]\n",
    "#H0:p1=p2 vs H1:not H0\n",
    "p1=B1_default/tot_B1\n",
    "p2=B2_default/tot_B2\n",
    "p=(B1_default+B2_default)/(tot_B1+tot_B2)\n",
    "z=(p1-p2)/np.sqrt(p*(1-p)*((1/tot_B1)+(1/tot_B2)))\n",
    "p_value=2*(1-dst.norm.cdf(abs(z)))\n",
    "print('p value :{}'.format(p_value))\n",
    "if p_value > significance:\n",
    "   print (\"Fail to reject the null hypothesis\")\n",
    "else:\n",
    "   print (\"Reject the null hypothesis - suggest the alternative hypothesis is true\")"
   ]
  },
  {
   "cell_type": "markdown",
   "id": "fd6252f2",
   "metadata": {},
   "source": [
    "#### Education levels are significant attribute."
   ]
  },
  {
   "cell_type": "markdown",
   "id": "fb6dc75b",
   "metadata": {},
   "source": [
    "### Checking Correlation Plot to find any association between the continuous features."
   ]
  },
  {
   "cell_type": "code",
   "execution_count": null,
   "id": "074a7f81",
   "metadata": {},
   "outputs": [],
   "source": [
    "f,ax = plt.subplots(figsize=(20, 20))\n",
    "mask=np.triu(np.ones_like(numeric.corr()))\n",
    "sns.heatmap(numeric.corr(), annot=True, linewidths=.5, fmt= '.2f',ax=ax,cmap=\"YlGnBu\") #, mas = mask)\n",
    "plt.title(\"Correlation plot of all features \")\n",
    "#plt.savefig('corplot.png', dpi = 1000, format = 'png')"
   ]
  },
  {
   "cell_type": "code",
   "execution_count": null,
   "id": "28068b72",
   "metadata": {},
   "outputs": [],
   "source": [
    "df.drop(columns=['ID', 'BILL_AMT2','BILL_AMT3','BILL_AMT4','BILL_AMT5','BILL_AMT6','age-bin'], inplace=True)"
   ]
  },
  {
   "cell_type": "code",
   "execution_count": null,
   "id": "c6d3bbb5",
   "metadata": {},
   "outputs": [],
   "source": [
    "df.head()"
   ]
  },
  {
   "cell_type": "markdown",
   "id": "bd6e97a2",
   "metadata": {},
   "source": [
    "### Model Fitting"
   ]
  },
  {
   "cell_type": "code",
   "execution_count": null,
   "id": "5c631ae1",
   "metadata": {},
   "outputs": [],
   "source": [
    "from imblearn.over_sampling import SMOTE\n",
    "from sklearn.model_selection import train_test_split\n",
    "from sklearn.linear_model import LogisticRegression\n",
    "from sklearn.tree import DecisionTreeClassifier\n",
    "from sklearn.ensemble import RandomForestClassifier\n",
    "from sklearn import metrics\n",
    "from sklearn.metrics import roc_auc_score, confusion_matrix, roc_curve"
   ]
  },
  {
   "cell_type": "code",
   "execution_count": null,
   "id": "e2d21b26",
   "metadata": {},
   "outputs": [],
   "source": [
    "X = df.iloc[:,0:18]\n",
    "y = df.loc[:,['Default']]\n",
    "X.columns"
   ]
  },
  {
   "cell_type": "code",
   "execution_count": null,
   "id": "c344a457",
   "metadata": {},
   "outputs": [],
   "source": [
    "print(X.shape)\n",
    "X_train, X_rest, y_train, y_rest = train_test_split(X, y, test_size=0.30, random_state=42)\n",
    "X_cv, X_test, y_cv, y_test = train_test_split(X_rest, y_rest, test_size=1/3, random_state=42)\n",
    "#print(X_cv.shape)"
   ]
  },
  {
   "cell_type": "code",
   "execution_count": null,
   "id": "e45056b8",
   "metadata": {},
   "outputs": [],
   "source": [
    "print(X_rest.shape)"
   ]
  },
  {
   "cell_type": "code",
   "execution_count": null,
   "id": "f8893443",
   "metadata": {},
   "outputs": [],
   "source": [
    "sm = SMOTE(random_state=42)\n",
    "X_res, y_res = sm.fit_resample(X_train,y_train)\n",
    "print(X_res.shape)"
   ]
  },
  {
   "cell_type": "code",
   "execution_count": null,
   "id": "2c0ee122",
   "metadata": {},
   "outputs": [],
   "source": [
    "y_res.value_counts()/len(y_res)"
   ]
  },
  {
   "cell_type": "code",
   "execution_count": null,
   "id": "eb336c5a",
   "metadata": {},
   "outputs": [],
   "source": [
    "LR = LogisticRegression()\n",
    "LR.fit(X_res, y_res)\n",
    "y_plr = LR.predict(X_cv)"
   ]
  },
  {
   "cell_type": "code",
   "execution_count": null,
   "id": "67f59499",
   "metadata": {},
   "outputs": [],
   "source": [
    "conf_matrix = confusion_matrix(y_true=y_cv, y_pred = y_plr)\n",
    "fig, ax = plt.subplots(figsize=(7.5, 7.5))\n",
    "ax.matshow(conf_matrix, cmap=plt.cm.Blues, alpha=0.3)\n",
    "for i in range(conf_matrix.shape[0]):\n",
    "    for j in range(conf_matrix.shape[1]):\n",
    "        ax.text(x=j, y=i,s=conf_matrix[i, j], va='center', ha='center', size='xx-large')\n",
    " \n",
    "plt.xlabel('Predictions', fontsize=18)\n",
    "plt.ylabel('Actuals', fontsize=18)\n",
    "plt.suptitle('Confusion Matrix', fontsize=14)\n",
    "plt.title('Logistic Regression', fontsize=12)\n",
    "\n",
    "plt.show()"
   ]
  },
  {
   "cell_type": "code",
   "execution_count": null,
   "id": "b372f845",
   "metadata": {},
   "outputs": [],
   "source": [
    "print(\"Accuracy:\",metrics.accuracy_score(y_cv, y_plr))\n",
    "# print(metrics.f1_score(y_test, y_plr))\n",
    "# print(roc_auc_score(y_test, y_plr))"
   ]
  },
  {
   "cell_type": "code",
   "execution_count": null,
   "id": "59a6f7e7",
   "metadata": {},
   "outputs": [],
   "source": [
    "ct = DecisionTreeClassifier(criterion=\"entropy\", max_depth = 7)\n",
    "ct.fit(X_res, y_res)\n",
    "y_pdt = ct.predict(X_cv)"
   ]
  },
  {
   "cell_type": "code",
   "execution_count": null,
   "id": "cb823fa3",
   "metadata": {},
   "outputs": [],
   "source": [
    "conf_matrix = confusion_matrix(y_true=y_cv, y_pred = y_pdt)\n",
    "fig, ax = plt.subplots(figsize=(7.5, 7.5))\n",
    "ax.matshow(conf_matrix, cmap=plt.cm.Blues, alpha=0.3)\n",
    "for i in range(conf_matrix.shape[0]):\n",
    "    for j in range(conf_matrix.shape[1]):\n",
    "        ax.text(x=j, y=i,s=conf_matrix[i, j], va='center', ha='center', size='xx-large')\n",
    " \n",
    "plt.xlabel('Predictions', fontsize=18)\n",
    "plt.ylabel('Actuals', fontsize=18)\n",
    "plt.suptitle('Confusion Matrix', fontsize=14)\n",
    "plt.title('Decision Tree', fontsize=12)\n",
    "plt.show()"
   ]
  },
  {
   "cell_type": "code",
   "execution_count": null,
   "id": "bfae9444",
   "metadata": {},
   "outputs": [],
   "source": [
    "print(\"Accuracy:\",metrics.accuracy_score(y_cv, y_pdt))\n",
    "# print(f1_score(y_test, y_pdt))\n",
    "# print(roc_auc_score(y_test, y_pdt))"
   ]
  },
  {
   "cell_type": "code",
   "execution_count": null,
   "id": "669acab7",
   "metadata": {},
   "outputs": [],
   "source": [
    "rf = RandomForestClassifier(n_estimators= 100)\n",
    "rf.fit(X_res, y_res)\n",
    "y_prf = rf.predict(X_cv)"
   ]
  },
  {
   "cell_type": "code",
   "execution_count": null,
   "id": "687b3168",
   "metadata": {},
   "outputs": [],
   "source": [
    "conf_matrix = confusion_matrix(y_true=y_cv, y_pred = y_prf)\n",
    "fig, ax = plt.subplots(figsize=(7.5, 7.5))\n",
    "ax.matshow(conf_matrix, cmap=plt.cm.Blues, alpha=0.3)\n",
    "for i in range(conf_matrix.shape[0]):\n",
    "    for j in range(conf_matrix.shape[1]):\n",
    "        ax.text(x=j, y=i,s=conf_matrix[i, j], va='center', ha='center', size='xx-large')\n",
    " \n",
    "plt.xlabel('Predictions', fontsize=18)\n",
    "plt.ylabel('Actuals', fontsize=18)\n",
    "plt.suptitle('Confusion Matrix', fontsize=14)\n",
    "plt.title('Random Forest', fontsize=12)\n",
    "plt.show()"
   ]
  },
  {
   "cell_type": "code",
   "execution_count": null,
   "id": "6579e68f",
   "metadata": {},
   "outputs": [],
   "source": [
    "print(\"Accuracy:\",metrics.accuracy_score(y_cv, y_prf))\n",
    "# print(f1_score(y_test, y_prf))\n",
    "# print(roc_auc_score(y_test, y_prf))"
   ]
  },
  {
   "cell_type": "markdown",
   "id": "87ebf817",
   "metadata": {},
   "source": [
    "Random Forest is the best model"
   ]
  },
  {
   "cell_type": "code",
   "execution_count": null,
   "id": "0ffd089e",
   "metadata": {},
   "outputs": [],
   "source": [
    "y_pred = rf.predict(X_test)"
   ]
  },
  {
   "cell_type": "code",
   "execution_count": null,
   "id": "f02b5166",
   "metadata": {},
   "outputs": [],
   "source": [
    "print(\"Accuracy:\",metrics.accuracy_score(y_test, y_pred))\n",
    "print(roc_auc_score(y_test, y_pred))"
   ]
  },
  {
   "cell_type": "code",
   "execution_count": null,
   "id": "7acc9527",
   "metadata": {},
   "outputs": [],
   "source": [
    "conf_matrix = confusion_matrix(y_true=y_test, y_pred = y_pred)\n",
    "fig, ax = plt.subplots(figsize=(7.5, 7.5))\n",
    "ax.matshow(conf_matrix, cmap=plt.cm.Blues, alpha=0.3)\n",
    "for i in range(conf_matrix.shape[0]):\n",
    "    for j in range(conf_matrix.shape[1]):\n",
    "        ax.text(x=j, y=i,s=conf_matrix[i, j], va='center', ha='center', size='xx-large')\n",
    " \n",
    "plt.xlabel('Predictions', fontsize=18)\n",
    "plt.ylabel('Actuals', fontsize=18)\n",
    "plt.suptitle('Confusion Matrix', fontsize=14)\n",
    "plt.title('Random Forest', fontsize=12)\n",
    "plt.show()"
   ]
  },
  {
   "cell_type": "code",
   "execution_count": null,
   "id": "904b9007",
   "metadata": {},
   "outputs": [],
   "source": [
    "y_pred_prob = rf.predict_proba(X_test)[:,1]\n",
    "fpr, tpr, thresholds = roc_curve(y_test, y_pred_prob)\n",
    "plt.plot([0, 1], [0, 1], 'k--')\n",
    "plt.plot(fpr, tpr, label='Random Forest')\n",
    "plt.xlabel('False Positive Rate')\n",
    "plt.ylabel('True Positive Rate')\n",
    "plt.title('Random Forest ROC Curve')\n",
    "plt.show()\n"
   ]
  }
 ],
 "metadata": {
  "kernelspec": {
   "display_name": "Python 3",
   "language": "python",
   "name": "python3"
  },
  "language_info": {
   "codemirror_mode": {
    "name": "ipython",
    "version": 3
   },
   "file_extension": ".py",
   "mimetype": "text/x-python",
   "name": "python",
   "nbconvert_exporter": "python",
   "pygments_lexer": "ipython3",
   "version": "3.8.8"
  }
 },
 "nbformat": 4,
 "nbformat_minor": 5
}
